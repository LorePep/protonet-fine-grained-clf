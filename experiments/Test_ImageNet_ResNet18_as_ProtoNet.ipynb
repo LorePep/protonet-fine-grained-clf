{
 "cells": [
  {
   "cell_type": "markdown",
   "metadata": {},
   "source": [
    "# What if we use ImageNet pretrained model?"
   ]
  },
  {
   "cell_type": "code",
   "execution_count": 1,
   "metadata": {},
   "outputs": [],
   "source": [
    "from dlcliche.notebook import *\n",
    "from dlcliche.utils import *\n",
    "sys.path.append('..')\n",
    "\n",
    "from torch.utils.data import DataLoader\n",
    "from torchvision import datasets, transforms\n",
    "from few_shot.models import get_few_shot_encoder\n",
    "from few_shot.callbacks import *\n",
    "\n",
    "assert torch.cuda.is_available()\n",
    "device = torch.device('cuda')\n",
    "#torch.backends.cudnn.benchmark = True\n",
    "\n",
    "from few_shot.extmodel_proto_net_clf import ExtModelProtoNetClf, BasePretrainedModel\n",
    "from torchvision import models\n",
    "from torch import nn\n",
    "from few_shot.models import Flatten"
   ]
  },
  {
   "cell_type": "code",
   "execution_count": 2,
   "metadata": {},
   "outputs": [],
   "source": [
    "# Make dataset split\n",
    "from config import DATA_PATH\n",
    "DATA_PATH = Path(DATA_PATH)/'miniImageNet'\n",
    "SRC_EVAL_PATH = DATA_PATH/'images_evaluation'\n",
    "SRC_TRN_PATH = DATA_PATH/'images_background'\n",
    "\n",
    "EVAL_TRN_PATH = Path('data/clf_eval_train')\n",
    "EVAL_VAL_PATH = Path('data/clf_eval_valid')\n",
    "K_WAY  = 5  # Class\n",
    "N_SKOT = 5  # Samples to build a prototype\n",
    "N_INPUT_CHANNELS = 3\n",
    "\n",
    "def rebuild_data_files(src=SRC_EVAL_PATH, trn_path=EVAL_TRN_PATH, val_path=EVAL_VAL_PATH,\n",
    "                       K_WAY=K_WAY, N_SKOT=N_SKOT):\n",
    "    ensure_delete(trn_path)\n",
    "    ensure_delete(val_path)\n",
    "\n",
    "    classes = [str(d.name) for d in src.glob('*')][:K_WAY]\n",
    "    for cls in classes:\n",
    "        dest_trn_folder = trn_path/cls\n",
    "        dest_val_folder = val_path/cls\n",
    "        ensure_folder(dest_trn_folder)\n",
    "        ensure_folder(dest_val_folder)\n",
    "        files = sorted(list((src/cls).glob('*.jpg')))\n",
    "        for i in range(N_SKOT):\n",
    "            copy_file(files[i], dest_trn_folder/files[i].name)\n",
    "        for i in range(N_SKOT, len(files)):\n",
    "            copy_file(files[i], dest_val_folder/files[i].name)\n",
    "\n",
    "    global plain_train_ds, train_dl, valid_ds, valid_dl\n",
    "    plain_train_ds = datasets.ImageFolder(\n",
    "        trn_path,\n",
    "        transform = transforms.Compose([\n",
    "            transforms.Resize((224, 224)),\n",
    "            transforms.ToTensor(),\n",
    "            transforms.Normalize(mean=[0.485, 0.456, 0.406],\n",
    "                                 std=[0.229, 0.224, 0.225])\n",
    "        ]))\n",
    "    train_dl = DataLoader(\n",
    "        plain_train_ds,\n",
    "        batch_size=8,\n",
    "    )\n",
    "    valid_ds = datasets.ImageFolder(\n",
    "            val_path,\n",
    "            transform = transforms.Compose([\n",
    "                transforms.Resize((224, 224)),\n",
    "                transforms.ToTensor(),\n",
    "                transforms.Normalize(mean=[0.485, 0.456, 0.406],\n",
    "                                     std=[0.229, 0.224, 0.225])\n",
    "            ]))\n",
    "    valid_dl = DataLoader(\n",
    "        valid_ds,\n",
    "        batch_size=8,\n",
    "    )"
   ]
  },
  {
   "cell_type": "markdown",
   "metadata": {},
   "source": [
    "## Create model"
   ]
  },
  {
   "cell_type": "code",
   "execution_count": 3,
   "metadata": {},
   "outputs": [],
   "source": [
    "model = BasePretrainedModel(base_model=models.resnet18)\n",
    "model.to(device, dtype=torch.float)\n",
    "model.eval()\n",
    "\n",
    "proto_net_clf = ExtModelProtoNetClf(model, device=device)"
   ]
  },
  {
   "cell_type": "markdown",
   "metadata": {},
   "source": [
    "## Test 5-way"
   ]
  },
  {
   "cell_type": "code",
   "execution_count": 4,
   "metadata": {},
   "outputs": [
    {
     "name": "stderr",
     "output_type": "stream",
     "text": [
      "100%|██████████| 4/4 [00:00<00:00, 42.06it/s]\n",
      "2019-01-23 12:29:17,494 dlcliche.utils make_prototypes [INFO]: Making new prototypes.\n",
      "100%|██████████| 372/372 [00:08<00:00, 43.71it/s]\n",
      "100%|██████████| 2975/2975 [00:00<00:00, 20467.07it/s]\n"
     ]
    },
    {
     "name": "stdout",
     "output_type": "stream",
     "text": [
      "F1/Recall/Precision/Accuracy = (0.9882539207551945, 0.9882352941176471, 0.9883894134090533, 0.9882352941176471)\n"
     ]
    },
    {
     "name": "stderr",
     "output_type": "stream",
     "text": [
      "100%|██████████| 1/1 [00:00<00:00, 69.66it/s]\n",
      "2019-01-23 12:29:26,553 dlcliche.utils make_prototypes [INFO]: Making new prototypes.\n",
      "100%|██████████| 375/375 [00:08<00:00, 43.87it/s]\n",
      "100%|██████████| 2995/2995 [00:00<00:00, 21287.13it/s]\n"
     ]
    },
    {
     "name": "stdout",
     "output_type": "stream",
     "text": [
      "F1/Recall/Precision/Accuracy = (0.8297963255981461, 0.8410684474123539, 0.9035678645381544, 0.8410684474123539)\n"
     ]
    },
    {
     "name": "stderr",
     "output_type": "stream",
     "text": [
      "100%|██████████| 4/4 [00:00<00:00, 58.42it/s]\n",
      "2019-01-23 12:29:35,697 dlcliche.utils make_prototypes [INFO]: Making new prototypes.\n",
      "100%|██████████| 372/372 [00:08<00:00, 36.94it/s]\n",
      "100%|██████████| 2975/2975 [00:00<00:00, 20611.19it/s]\n"
     ]
    },
    {
     "name": "stdout",
     "output_type": "stream",
     "text": [
      "F1/Recall/Precision/Accuracy = (0.9804990776074115, 0.9805042016806723, 0.9811282105492662, 0.9805042016806723)\n"
     ]
    },
    {
     "name": "stderr",
     "output_type": "stream",
     "text": [
      "100%|██████████| 1/1 [00:00<00:00, 63.47it/s]\n",
      "2019-01-23 12:29:45,100 dlcliche.utils make_prototypes [INFO]: Making new prototypes.\n",
      "100%|██████████| 375/375 [00:08<00:00, 42.41it/s]\n",
      "100%|██████████| 2995/2995 [00:00<00:00, 20847.89it/s]"
     ]
    },
    {
     "name": "stdout",
     "output_type": "stream",
     "text": [
      "F1/Recall/Precision/Accuracy = (0.7793769948555661, 0.7796327212020033, 0.8696235374513783, 0.7796327212020033)\n"
     ]
    },
    {
     "name": "stderr",
     "output_type": "stream",
     "text": [
      "\n"
     ]
    }
   ],
   "source": [
    "rebuild_data_files(src=SRC_TRN_PATH, K_WAY=5, N_SKOT=5)\n",
    "prototypes = proto_net_clf.make_prototypes(train_dl)\n",
    "print('F1/Recall/Precision/Accuracy =', proto_net_clf.evaluate(data_loader=valid_dl))\n",
    "rebuild_data_files(src=SRC_TRN_PATH, K_WAY=5, N_SKOT=1)\n",
    "prototypes = proto_net_clf.make_prototypes(train_dl)\n",
    "print('F1/Recall/Precision/Accuracy =', proto_net_clf.evaluate(data_loader=valid_dl))\n",
    "\n",
    "rebuild_data_files(src=SRC_EVAL_PATH, K_WAY=5, N_SKOT=5)\n",
    "prototypes = proto_net_clf.make_prototypes(train_dl)\n",
    "print('F1/Recall/Precision/Accuracy =', proto_net_clf.evaluate(data_loader=valid_dl))\n",
    "rebuild_data_files(src=SRC_EVAL_PATH, K_WAY=5, N_SKOT=1)\n",
    "prototypes = proto_net_clf.make_prototypes(train_dl)\n",
    "print('F1/Recall/Precision/Accuracy =', proto_net_clf.evaluate(data_loader=valid_dl))"
   ]
  },
  {
   "cell_type": "markdown",
   "metadata": {},
   "source": [
    "## Test 80-way (only available with SRC_TRN_PATH)"
   ]
  },
  {
   "cell_type": "code",
   "execution_count": 6,
   "metadata": {},
   "outputs": [
    {
     "name": "stderr",
     "output_type": "stream",
     "text": [
      "100%|██████████| 10/10 [00:00<00:00, 46.86it/s]\n",
      "2019-01-23 12:31:05,807 dlcliche.utils make_prototypes [INFO]: Making new prototypes.\n",
      "100%|██████████| 5990/5990 [02:12<00:00, 43.69it/s]\n",
      "100%|██████████| 47920/47920 [00:27<00:00, 1748.40it/s]\n"
     ]
    },
    {
     "name": "stdout",
     "output_type": "stream",
     "text": [
      "F1/Recall/Precision/Accuracy = (0.5320421397494145, 0.532262103505843, 0.6443292247615288, 0.532262103505843)\n"
     ]
    },
    {
     "name": "stderr",
     "output_type": "stream",
     "text": [
      "100%|██████████| 50/50 [00:01<00:00, 43.68it/s]\n",
      "2019-01-23 12:33:53,551 dlcliche.utils make_prototypes [INFO]: Making new prototypes.\n",
      "100%|██████████| 5950/5950 [02:14<00:00, 44.39it/s]\n",
      "100%|██████████| 47600/47600 [00:27<00:00, 1720.76it/s]\n"
     ]
    },
    {
     "name": "stdout",
     "output_type": "stream",
     "text": [
      "F1/Recall/Precision/Accuracy = (0.8249790996404818, 0.8227100840336135, 0.8402276374817964, 0.8227100840336135)\n"
     ]
    }
   ],
   "source": [
    "rebuild_data_files(src=SRC_TRN_PATH, K_WAY=80, N_SKOT=1)\n",
    "prototypes = proto_net_clf.make_prototypes(train_dl)\n",
    "print('F1/Recall/Precision/Accuracy =', proto_net_clf.evaluate(data_loader=valid_dl))\n",
    "rebuild_data_files(src=SRC_TRN_PATH, K_WAY=80, N_SKOT=5)\n",
    "prototypes = proto_net_clf.make_prototypes(train_dl)\n",
    "print('F1/Recall/Precision/Accuracy =', proto_net_clf.evaluate(data_loader=valid_dl))"
   ]
  },
  {
   "cell_type": "code",
   "execution_count": null,
   "metadata": {
    "collapsed": true
   },
   "outputs": [],
   "source": []
  }
 ],
 "metadata": {
  "kernelspec": {
   "display_name": "Python 3",
   "language": "python",
   "name": "python3"
  },
  "language_info": {
   "codemirror_mode": {
    "name": "ipython",
    "version": 3
   },
   "file_extension": ".py",
   "mimetype": "text/x-python",
   "name": "python",
   "nbconvert_exporter": "python",
   "pygments_lexer": "ipython3",
   "version": "3.6.2"
  }
 },
 "nbformat": 4,
 "nbformat_minor": 2
}
